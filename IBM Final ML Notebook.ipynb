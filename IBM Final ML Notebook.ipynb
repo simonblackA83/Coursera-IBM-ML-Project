{
    "nbformat_minor": 1, 
    "cells": [
        {
            "source": "#Pull Data", 
            "cell_type": "markdown", 
            "metadata": {}
        }, 
        {
            "execution_count": 76, 
            "cell_type": "code", 
            "metadata": {}, 
            "outputs": [
                {
                    "output_type": "stream", 
                    "name": "stdout", 
                    "text": "--2019-08-15 16:27:41--  https://s3-api.us-geo.objectstorage.softlayer.net/cf-courses-data/CognitiveClass/ML0101ENv3/labs/loan_train.csv\nResolving s3-api.us-geo.objectstorage.softlayer.net (s3-api.us-geo.objectstorage.softlayer.net)... 67.228.254.193\nConnecting to s3-api.us-geo.objectstorage.softlayer.net (s3-api.us-geo.objectstorage.softlayer.net)|67.228.254.193|:443... connected.\nHTTP request sent, awaiting response... 200 OK\nLength: 23101 (23K) [text/csv]\nSaving to: \u2018loan_train.csv\u2019\n\n100%[======================================>] 23,101      --.-K/s   in 0.07s   \n\n2019-08-15 16:27:42 (302 KB/s) - \u2018loan_train.csv\u2019 saved [23101/23101]\n\n"
                }
            ], 
            "source": "!wget -O loan_train.csv https://s3-api.us-geo.objectstorage.softlayer.net/cf-courses-data/CognitiveClass/ML0101ENv3/labs/loan_train.csv"
        }, 
        {
            "execution_count": 77, 
            "cell_type": "code", 
            "metadata": {}, 
            "outputs": [], 
            "source": "import numpy as np \nimport pandas as pd\nimport seaborn as sns; import matplotlib.pyplot as plt\nfrom pandas.api.types import is_numeric_dtype\nfrom sklearn import preprocessing\nfrom sklearn.model_selection import train_test_split\nfrom sklearn.neighbors import KNeighborsClassifier\nfrom sklearn import metrics\nfrom sklearn.metrics import jaccard_similarity_score\nfrom sklearn.metrics import f1_score\nfrom sklearn.metrics import log_loss"
        }, 
        {
            "execution_count": 78, 
            "cell_type": "code", 
            "metadata": {}, 
            "outputs": [], 
            "source": "data = pd.read_csv(\"loan_train.csv\")"
        }, 
        {
            "execution_count": 79, 
            "cell_type": "code", 
            "metadata": {}, 
            "outputs": [], 
            "source": "col_names = ['loan_status','Principal','terms','effective_date','due_date','age','education','Gender']"
        }, 
        {
            "execution_count": 80, 
            "cell_type": "code", 
            "metadata": {}, 
            "outputs": [], 
            "source": "df = data[col_names]"
        }, 
        {
            "execution_count": 81, 
            "cell_type": "code", 
            "metadata": {}, 
            "outputs": [
                {
                    "execution_count": 81, 
                    "metadata": {}, 
                    "data": {
                        "text/html": "<div>\n<style scoped>\n    .dataframe tbody tr th:only-of-type {\n        vertical-align: middle;\n    }\n\n    .dataframe tbody tr th {\n        vertical-align: top;\n    }\n\n    .dataframe thead th {\n        text-align: right;\n    }\n</style>\n<table border=\"1\" class=\"dataframe\">\n  <thead>\n    <tr style=\"text-align: right;\">\n      <th></th>\n      <th>loan_status</th>\n      <th>Principal</th>\n      <th>terms</th>\n      <th>effective_date</th>\n      <th>due_date</th>\n      <th>age</th>\n      <th>education</th>\n      <th>Gender</th>\n    </tr>\n  </thead>\n  <tbody>\n    <tr>\n      <th>0</th>\n      <td>PAIDOFF</td>\n      <td>1000</td>\n      <td>30</td>\n      <td>9/8/2016</td>\n      <td>10/7/2016</td>\n      <td>45</td>\n      <td>High School or Below</td>\n      <td>male</td>\n    </tr>\n    <tr>\n      <th>1</th>\n      <td>PAIDOFF</td>\n      <td>1000</td>\n      <td>30</td>\n      <td>9/8/2016</td>\n      <td>10/7/2016</td>\n      <td>33</td>\n      <td>Bechalor</td>\n      <td>female</td>\n    </tr>\n    <tr>\n      <th>2</th>\n      <td>PAIDOFF</td>\n      <td>1000</td>\n      <td>15</td>\n      <td>9/8/2016</td>\n      <td>9/22/2016</td>\n      <td>27</td>\n      <td>college</td>\n      <td>male</td>\n    </tr>\n    <tr>\n      <th>3</th>\n      <td>PAIDOFF</td>\n      <td>1000</td>\n      <td>30</td>\n      <td>9/9/2016</td>\n      <td>10/8/2016</td>\n      <td>28</td>\n      <td>college</td>\n      <td>female</td>\n    </tr>\n    <tr>\n      <th>4</th>\n      <td>PAIDOFF</td>\n      <td>1000</td>\n      <td>30</td>\n      <td>9/9/2016</td>\n      <td>10/8/2016</td>\n      <td>29</td>\n      <td>college</td>\n      <td>male</td>\n    </tr>\n    <tr>\n      <th>5</th>\n      <td>PAIDOFF</td>\n      <td>1000</td>\n      <td>30</td>\n      <td>9/9/2016</td>\n      <td>10/8/2016</td>\n      <td>36</td>\n      <td>college</td>\n      <td>male</td>\n    </tr>\n    <tr>\n      <th>6</th>\n      <td>PAIDOFF</td>\n      <td>1000</td>\n      <td>30</td>\n      <td>9/9/2016</td>\n      <td>10/8/2016</td>\n      <td>28</td>\n      <td>college</td>\n      <td>male</td>\n    </tr>\n    <tr>\n      <th>7</th>\n      <td>PAIDOFF</td>\n      <td>800</td>\n      <td>15</td>\n      <td>9/10/2016</td>\n      <td>9/24/2016</td>\n      <td>26</td>\n      <td>college</td>\n      <td>male</td>\n    </tr>\n    <tr>\n      <th>8</th>\n      <td>PAIDOFF</td>\n      <td>300</td>\n      <td>7</td>\n      <td>9/10/2016</td>\n      <td>9/16/2016</td>\n      <td>29</td>\n      <td>college</td>\n      <td>male</td>\n    </tr>\n    <tr>\n      <th>9</th>\n      <td>PAIDOFF</td>\n      <td>1000</td>\n      <td>15</td>\n      <td>9/10/2016</td>\n      <td>10/9/2016</td>\n      <td>39</td>\n      <td>High School or Below</td>\n      <td>male</td>\n    </tr>\n  </tbody>\n</table>\n</div>", 
                        "text/plain": "  loan_status  Principal  terms effective_date   due_date  age  \\\n0     PAIDOFF       1000     30       9/8/2016  10/7/2016   45   \n1     PAIDOFF       1000     30       9/8/2016  10/7/2016   33   \n2     PAIDOFF       1000     15       9/8/2016  9/22/2016   27   \n3     PAIDOFF       1000     30       9/9/2016  10/8/2016   28   \n4     PAIDOFF       1000     30       9/9/2016  10/8/2016   29   \n5     PAIDOFF       1000     30       9/9/2016  10/8/2016   36   \n6     PAIDOFF       1000     30       9/9/2016  10/8/2016   28   \n7     PAIDOFF        800     15      9/10/2016  9/24/2016   26   \n8     PAIDOFF        300      7      9/10/2016  9/16/2016   29   \n9     PAIDOFF       1000     15      9/10/2016  10/9/2016   39   \n\n              education  Gender  \n0  High School or Below    male  \n1              Bechalor  female  \n2               college    male  \n3               college  female  \n4               college    male  \n5               college    male  \n6               college    male  \n7               college    male  \n8               college    male  \n9  High School or Below    male  "
                    }, 
                    "output_type": "execute_result"
                }
            ], 
            "source": "df.head(10)"
        }, 
        {
            "execution_count": 82, 
            "cell_type": "code", 
            "metadata": {}, 
            "outputs": [], 
            "source": "from pandas.api.types import is_numeric_dtype"
        }, 
        {
            "source": "#Even though it is clear we investigate the data set and find out that there are non numeric entries", 
            "cell_type": "markdown", 
            "metadata": {}
        }, 
        {
            "execution_count": 83, 
            "cell_type": "code", 
            "metadata": {}, 
            "outputs": [
                {
                    "execution_count": 83, 
                    "metadata": {}, 
                    "data": {
                        "text/plain": "False"
                    }, 
                    "output_type": "execute_result"
                }
            ], 
            "source": "is_numeric_dtype(df['loan_status'])"
        }, 
        {
            "execution_count": 84, 
            "cell_type": "code", 
            "metadata": {}, 
            "outputs": [
                {
                    "output_type": "stream", 
                    "name": "stderr", 
                    "text": "/opt/conda/envs/Python36/lib/python3.6/site-packages/ipykernel/__main__.py:1: SettingWithCopyWarning: \nA value is trying to be set on a copy of a slice from a DataFrame.\nTry using .loc[row_indexer,col_indexer] = value instead\n\nSee the caveats in the documentation: http://pandas.pydata.org/pandas-docs/stable/indexing.html#indexing-view-versus-copy\n  if __name__ == '__main__':\n/opt/conda/envs/Python36/lib/python3.6/site-packages/ipykernel/__main__.py:2: SettingWithCopyWarning: \nA value is trying to be set on a copy of a slice from a DataFrame.\nTry using .loc[row_indexer,col_indexer] = value instead\n\nSee the caveats in the documentation: http://pandas.pydata.org/pandas-docs/stable/indexing.html#indexing-view-versus-copy\n  from ipykernel import kernelapp as app\n"
                }
            ], 
            "source": "df['due_date'] = pd.to_datetime(df['due_date'])\ndf['effective_date'] = pd.to_datetime(df['effective_date'])"
        }, 
        {
            "execution_count": 85, 
            "cell_type": "code", 
            "metadata": {}, 
            "outputs": [
                {
                    "execution_count": 85, 
                    "metadata": {}, 
                    "data": {
                        "text/plain": "PAIDOFF       260\nCOLLECTION     86\nName: loan_status, dtype: int64"
                    }, 
                    "output_type": "execute_result"
                }
            ], 
            "source": "df['loan_status'].value_counts()"
        }, 
        {
            "source": "#Visualize the data as histogram using the variables GENDER, AGE, LOAN STATUS", 
            "cell_type": "markdown", 
            "metadata": {}
        }, 
        {
            "execution_count": 86, 
            "cell_type": "code", 
            "metadata": {}, 
            "outputs": [
                {
                    "output_type": "display_data", 
                    "data": {
                        "image/png": "[encoded data removed]", 
                        "text/plain": "<Figure size 432x216 with 2 Axes>"
                    }, 
                    "metadata": {
                        "needs_background": "light"
                    }
                }
            ], 
            "source": "a = sns.FacetGrid(df, col=\"Gender\", hue=\"loan_status\", palette=\"Set1\", col_wrap=2)\na.map(plt.hist, 'age', ec=\"k\")\na.axes[-1].legend()\nplt.show()"
        }, 
        {
            "source": "#The existing data for males seems to be way greater or we could assume that males engage in debt more regularely", 
            "cell_type": "markdown", 
            "metadata": {}
        }, 
        {
            "execution_count": 87, 
            "cell_type": "code", 
            "metadata": {}, 
            "outputs": [
                {
                    "execution_count": 87, 
                    "metadata": {}, 
                    "data": {
                        "text/plain": "male      294\nfemale     52\nName: Gender, dtype: int64"
                    }, 
                    "output_type": "execute_result"
                }
            ], 
            "source": "df['Gender'].value_counts()"
        }, 
        {
            "execution_count": 88, 
            "cell_type": "code", 
            "metadata": {}, 
            "outputs": [
                {
                    "execution_count": 88, 
                    "metadata": {}, 
                    "data": {
                        "text/plain": "Gender  loan_status\nfemale  PAIDOFF        0.865385\n        COLLECTION     0.134615\nmale    PAIDOFF        0.731293\n        COLLECTION     0.268707\nName: loan_status, dtype: float64"
                    }, 
                    "output_type": "execute_result"
                }
            ], 
            "source": "df.groupby(['Gender'])['loan_status'].value_counts(normalize=True)"
        }, 
        {
            "source": "#the normalized data suggests that females are less risky (repayment) clients", 
            "cell_type": "markdown", 
            "metadata": {}
        }, 
        {
            "execution_count": 89, 
            "cell_type": "code", 
            "metadata": {}, 
            "outputs": [
                {
                    "execution_count": 89, 
                    "metadata": {}, 
                    "data": {
                        "text/plain": "High School or Below    151\ncollege                 149\nBechalor                 44\nMaster or Above           2\nName: education, dtype: int64"
                    }, 
                    "output_type": "execute_result"
                }
            ], 
            "source": "df['education'].value_counts()"
        }, 
        {
            "source": "#the n of \"Master or Above\" is insignificantly small within our variable \"education\" so that we may neglect the two entires", 
            "cell_type": "markdown", 
            "metadata": {}
        }, 
        {
            "execution_count": 90, 
            "cell_type": "code", 
            "metadata": {}, 
            "outputs": [
                {
                    "execution_count": 90, 
                    "metadata": {}, 
                    "data": {
                        "text/plain": "education             loan_status\nBechalor              PAIDOFF        0.750000\n                      COLLECTION     0.250000\nHigh School or Below  PAIDOFF        0.741722\n                      COLLECTION     0.258278\nMaster or Above       COLLECTION     0.500000\n                      PAIDOFF        0.500000\ncollege               PAIDOFF        0.765101\n                      COLLECTION     0.234899\nName: loan_status, dtype: float64"
                    }, 
                    "output_type": "execute_result"
                }
            ], 
            "source": "df.groupby(['education'])['loan_status'].value_counts(normalize=True)"
        }, 
        {
            "execution_count": 91, 
            "cell_type": "code", 
            "metadata": {}, 
            "outputs": [], 
            "source": "df = df[df.education != 'Master or Above']"
        }, 
        {
            "source": "#we change categorical variables to dummies/binary entries", 
            "cell_type": "markdown", 
            "metadata": {}
        }, 
        {
            "execution_count": 92, 
            "cell_type": "code", 
            "metadata": {}, 
            "outputs": [], 
            "source": "categor = pd.get_dummies(df['education'])\ncols = ['loan_status','Principal','terms','effective_date',\n             'due_date','age','Gender']"
        }, 
        {
            "execution_count": 93, 
            "cell_type": "code", 
            "metadata": {}, 
            "outputs": [], 
            "source": "df_processed = df[cols]; df_processed = pd.concat([df_processed,categor],axis=1)\ndf_processed['Gender'] = df_processed['Gender'].replace(to_replace = \n            ['male','female'], value = [0,1])"
        }, 
        {
            "execution_count": 94, 
            "cell_type": "code", 
            "metadata": {}, 
            "outputs": [], 
            "source": "df_processed['due_date'] = pd.to_numeric(df_processed['due_date'], errors='coerce')\ndf_processed['effective_date'] = pd.to_numeric(df_processed['effective_date'], \n            errors='coerce')"
        }, 
        {
            "execution_count": 95, 
            "cell_type": "code", 
            "metadata": {}, 
            "outputs": [], 
            "source": "x = np.array(df_processed); x = x[:,1:8]\ny = df['loan_status'].replace(to_replace = ['PAIDOFF','COLLECTION'], value=[0,1]).values"
        }, 
        {
            "source": "#We normalize and split our data into training and testing set applying the ratio 0.8/0.2", 
            "cell_type": "markdown", 
            "metadata": {}
        }, 
        {
            "execution_count": 96, 
            "cell_type": "code", 
            "metadata": {}, 
            "outputs": [
                {
                    "output_type": "stream", 
                    "name": "stdout", 
                    "text": "Train set: (275, 7) (275,)\nTest set: (69, 7) (69,)\n"
                }, 
                {
                    "output_type": "stream", 
                    "name": "stderr", 
                    "text": "/opt/conda/envs/Python36/lib/python3.6/site-packages/sklearn/utils/validation.py:595: DataConversionWarning: Data with input dtype object was converted to float64 by StandardScaler.\n  warnings.warn(msg, DataConversionWarning)\n"
                }
            ], 
            "source": "x = preprocessing.StandardScaler().fit(x).transform(x.astype(float))\n\nx_train, x_test, y_train, y_test = train_test_split(x, y, test_size=0.2, random_state=2)\nprint ('Train set:', x_train.shape,  y_train.shape)\nprint ('Test set:', x_test.shape,  y_test.shape)"
        }, 
        {
            "source": "#k-Nearest Neighbour", 
            "cell_type": "markdown", 
            "metadata": {}
        }, 
        {
            "execution_count": 97, 
            "cell_type": "code", 
            "metadata": {}, 
            "outputs": [
                {
                    "output_type": "stream", 
                    "name": "stdout", 
                    "text": "[0.71014493 0.76811594 0.69565217 0.75362319 0.71014493 0.79710145\n 0.7826087  0.8115942  0.72463768 0.75362319]\n"
                }, 
                {
                    "output_type": "display_data", 
                    "data": {
                        "image/png": "[encoded data removed]", 
                        "text/plain": "<Figure size 432x288 with 1 Axes>"
                    }, 
                    "metadata": {
                        "needs_background": "light"
                    }
                }, 
                {
                    "output_type": "stream", 
                    "name": "stdout", 
                    "text": "Best K: 8\n"
                }
            ], 
            "source": "K = 11\nmean_acc = np.zeros((K-1))\nstd_acc = np.zeros((K-1))\n\nfor n in range(1,K):\n    \n    neigh = KNeighborsClassifier(n_neighbors = n).fit(x_train, y_train)\n    y_hat = neigh.predict(x_test)\n    mean_acc[n-1] = metrics.accuracy_score(y_test, y_hat)\n\n    std_acc[n-1] = np.std(y_hat == y_test) / np.sqrt(y_hat.shape[0])\n\nprint(mean_acc)\n\nplt.plot(range(1, 11), mean_acc)\nplt.xlabel('K')\nplt.ylabel('Accuracy')\nplt.show()\n\nbest_K = np.argmax(mean_acc) + 1\n\nprint(\"Best K:\", best_K)\n\nbest_knn = KNeighborsClassifier(n_neighbors = best_K).fit(x_train, y_train)\ny_pred_knn = best_knn.predict(x_test)"
        }, 
        {
            "source": "#We Evaluate our model(s) using Jaccard index, F1-score, Log Loss", 
            "cell_type": "markdown", 
            "metadata": {}
        }, 
        {
            "execution_count": 98, 
            "cell_type": "code", 
            "metadata": {}, 
            "outputs": [], 
            "source": "#Create an Empty Dictionary for Model Evaluation Scores\ntest_scores = {}\ntest_scores['KNN-jaccard'] = jaccard_similarity_score(y_test, y_pred_knn)\ntest_scores['KNN-f1-score']=f1_score(y_test, y_pred_knn, average = 'weighted')"
        }, 
        {
            "execution_count": 99, 
            "cell_type": "code", 
            "metadata": {}, 
            "outputs": [], 
            "source": "from sklearn import tree\nfrom sklearn.tree import DecisionTreeClassifier\n\nclf_tree = tree.DecisionTreeClassifier()\nclf_tree = clf_tree.fit(x_train, y_train)\n\ny_pred = clf_tree.predict(x_test)\n\ntest_scores['Tree-jaccard'] = jaccard_similarity_score(y_test, y_pred)\ntest_scores['Tree-f1-score'] = f1_score(y_test, y_pred, average = 'weighted')"
        }, 
        {
            "execution_count": 100, 
            "cell_type": "code", 
            "metadata": {}, 
            "outputs": [], 
            "source": "from sklearn.linear_model import LogisticRegression\n\nLR = LogisticRegression(C=0.01, solver='liblinear').fit(x_train, y_train)\n\ny_hat_LR = LR.predict(x_test)\ny_hat_prob = LR.predict_proba(x_test)\n\ntest_scores['LogReg-jaccard'] = jaccard_similarity_score(y_test, y_hat_LR)\ntest_scores['LogReg-f1-score'] = f1_score(y_test, y_hat_LR, average = 'weighted')\n#since we can calculate a probability, log loss comes into play\ntest_scores['LogReg-LogLoss'] = log_loss(y_test, y_hat_prob)"
        }, 
        {
            "execution_count": 101, 
            "cell_type": "code", 
            "metadata": {}, 
            "outputs": [
                {
                    "output_type": "stream", 
                    "name": "stderr", 
                    "text": "/opt/conda/envs/Python36/lib/python3.6/site-packages/sklearn/svm/base.py:196: FutureWarning: The default value of gamma will change from 'auto' to 'scale' in version 0.22 to account better for unscaled features. Set gamma explicitly to 'auto' or 'scale' to avoid this warning.\n  \"avoid this warning.\", FutureWarning)\n"
                }
            ], 
            "source": "from sklearn import svm\n\nclf = svm.SVC(kernel='rbf')\nclf.fit(x_train, y_train) \ny_pred_svm = clf.predict(x_test)\n\ntest_scores['SVM-jaccard'] = jaccard_similarity_score(y_test, y_pred_svm)\ntest_scores['SVM-f1-score'] = f1_score(y_test, y_pred_svm, average = 'weighted')"
        }, 
        {
            "source": "#We summarize our model where Logistic Regressions seems to be the most favourable with test scores closest to the most desirable value 1 (we can not compare log loss)", 
            "cell_type": "markdown", 
            "metadata": {}
        }, 
        {
            "execution_count": 102, 
            "cell_type": "code", 
            "metadata": {}, 
            "outputs": [
                {
                    "output_type": "stream", 
                    "name": "stdout", 
                    "text": "                        0\nKNN-jaccard      0.811594\nKNN-f1-score     0.759203\nTree-jaccard     0.753623\nTree-f1-score    0.756741\nLogReg-jaccard   0.826087\nLogReg-f1-score  0.797200\nLogReg-LogLoss   0.568488\nSVM-jaccard      0.797101\nSVM-f1-score     0.730993\n"
                }
            ], 
            "source": "score_evaluation = pd.DataFrame.from_dict(test_scores, orient = 'index')\nprint(score_evaluation)"
        }
    ], 
    "metadata": {
        "kernelspec": {
            "display_name": "Python 3.6", 
            "name": "python3", 
            "language": "python"
        }, 
        "language_info": {
            "mimetype": "text/x-python", 
            "nbconvert_exporter": "python", 
            "version": "3.6.8", 
            "name": "python", 
            "file_extension": ".py", 
            "pygments_lexer": "ipython3", 
            "codemirror_mode": {
                "version": 3, 
                "name": "ipython"
            }
        }
    }, 
    "nbformat": 4
}